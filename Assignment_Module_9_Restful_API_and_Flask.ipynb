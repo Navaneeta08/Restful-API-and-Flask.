{
  "cells": [
    {
      "cell_type": "markdown",
      "id": "7b609ac8",
      "metadata": {
        "id": "7b609ac8"
      },
      "source": [
        "# **Theory Questions**"
      ]
    },
    {
      "cell_type": "markdown",
      "id": "89ea8677",
      "metadata": {
        "id": "89ea8677"
      },
      "source": [
        "## **1. What is a RESTful API ?**"
      ]
    },
    {
      "cell_type": "markdown",
      "source": [
        "- RESTful API (Representational State Transfer Application Programming Interface) is a set of rules and conventions for building and interacting with web services by using standard HTTP methods.\n",
        "- 4 Main operations that can be performed are:\n",
        "  1. POST- Create\n",
        "  2. GET- Retrieve\n",
        "  3. PUT- Update\n",
        "  4. DELETE- Remove\n",
        "- These are stateless containg all necessary information witout relying on server-side sessions.\n",
        "- They promote scalability, simplicity, and flexibility, making them widely used in web and mobile applocations.\n",
        "- It enables easy communication between client and server, often exchanging data in JSON or XML formats.\n",
        "- Example: RESTful APIs are like waiters in resturants. We (the client) give our order (a request) to the waiter, who then communicates it to the kitchen (the server). The kitchen prepares our meal (the resource), and the waiter brings it back to us (the response). The communication follows a standard procedure making it efficient and predictable."
      ],
      "metadata": {
        "id": "6MyIJaPEosBz"
      },
      "id": "6MyIJaPEosBz"
    },
    {
      "cell_type": "markdown",
      "id": "efd5a870",
      "metadata": {
        "id": "efd5a870"
      },
      "source": [
        "## **2. Explain the concept of API specification.**"
      ]
    },
    {
      "cell_type": "markdown",
      "source": [
        "- An API specification is a detailed documentation that defines how an aPi should function.\n",
        "- It provides the available endpoints , request formats, response structures, authentication methods, error codes, and data types.\n",
        "- A well defined API Specification simplifies development improves interoperability and ensures reliable system to system communication.\n",
        "- It removes ambuiguity by setting clear rules for developers on how to use the API effectively."
      ],
      "metadata": {
        "id": "UcZZPnMfs-bP"
      },
      "id": "UcZZPnMfs-bP"
    },
    {
      "cell_type": "markdown",
      "id": "5b406494",
      "metadata": {
        "id": "5b406494"
      },
      "source": [
        "## **3. What is Flask, and why is it popular for building APIs ?**"
      ]
    },
    {
      "cell_type": "markdown",
      "source": [
        "- Flask is a lightweight micro web framework for Python as it provides the bae essentials for web development without imposing rigid structure or having many dependencies.\n",
        "- It follows a minimalistic, modular design, allowing developers to add only the components they need, which makes it flexible and easy to use.\n",
        "- It is simple to learn, supports RESTful request handling, and integrates well with Python libraries. - Its built-in development server, debugging tools, and extensive documentation make prototyping fast and efficient.\n",
        "- This makes it ideal for building small-to-medium-sized applications, microservices, and rapid prototypes with minimal overhead."
      ],
      "metadata": {
        "id": "sH6719IWu20l"
      },
      "id": "sH6719IWu20l"
    },
    {
      "cell_type": "markdown",
      "id": "cbe87f4f",
      "metadata": {
        "id": "cbe87f4f"
      },
      "source": [
        "## **4. What is routing in Flask ?**"
      ]
    },
    {
      "cell_type": "markdown",
      "source": [
        "- In Flask, **routing** is the process of mapping URLs to specific functions in a web application.\n",
        "- When a client sends a request to a particular URL, Flask uses the defined route to determine which function (called a view function) should handle the request.\n",
        "- Routes are created using the `@app.route()` decorator, where the URL path is specified.\n",
        "  - Example\" `@app.route(\"/\")` maps the homepage to a function.\n",
        "- Routing also supports dynamic parameters, allowing variable parts of the URL to be captured and passed into functions.\n",
        "- This mechanism makes Flask flexible and efficient for handling multiple endpoints in APIs and applications.\n"
      ],
      "metadata": {
        "id": "dntulZhIwiig"
      },
      "id": "dntulZhIwiig"
    },
    {
      "cell_type": "markdown",
      "id": "b907b98f",
      "metadata": {
        "id": "b907b98f"
      },
      "source": [
        "## **5. How do you create a simple Flask application ?**"
      ]
    },
    {
      "cell_type": "markdown",
      "source": [
        "To create a simple Flask application, first install Flask using `pip install flask`. Then, create a Python file (e.g., `app.py`) and import Flask:\n",
        "\n",
        "```python\n",
        "from flask import Flask  \n",
        "app = Flask(__name__)  \n",
        "\n",
        "@app.route(\"/\")  \n",
        "def home():  \n",
        "    return \"Hello, World!\"  \n",
        "\n",
        "if __name__ == \"__main__\":  \n",
        "    app.run(debug=True)  \n",
        "```\n",
        "\n",
        "Here, an instance of the Flask class is created, a route (`/`) is defined, and a function returns a response. Running this script starts a local development server, making the app accessible at `http://127.0.0.1:5000/`.\n"
      ],
      "metadata": {
        "id": "GOOa9RaNw_U1"
      },
      "id": "GOOa9RaNw_U1"
    },
    {
      "cell_type": "markdown",
      "id": "91047ed9",
      "metadata": {
        "id": "91047ed9"
      },
      "source": [
        "## **6. What are HTTP methods used in RESTful APIs ?**"
      ]
    },
    {
      "cell_type": "markdown",
      "source": [
        "- HTTP methods in RESTful APIs define the type of action to perform on resources identified by URLs.\n",
        "- The most common are:\n",
        "  1. **GET** (retrieve data from the server),\n",
        "  2. **POST** (create new resources), **PUT** (update or replace existing resources),\n",
        "  3. **PUT** (partially update a resource), and\n",
        "  4. **DELETE** (remove a resource)\n",
        "  \n",
        "- Each method aligns with CRUD operations—Create, Read, Update, Delete—ensuring consistency and clarity in API design.\n",
        "- These methods use standard HTTP requests, making RESTful APIs easy to understand and widely compatible.\n",
        "- They also improve scalability and maintainability by providing a uniform interface for client-server communication across applications and platforms.\n"
      ],
      "metadata": {
        "id": "34NjVdwuxlWh"
      },
      "id": "34NjVdwuxlWh"
    },
    {
      "cell_type": "markdown",
      "id": "5ad377f7",
      "metadata": {
        "id": "5ad377f7"
      },
      "source": [
        "## **7. What is the purpose of the @app.route() decorator in Flask ?**"
      ]
    },
    {
      "cell_type": "markdown",
      "source": [
        "- The `@app.route()` decorator in Flask is used to define routes, which map specific URL paths to functions (called view functions) in a web application.\n",
        "- When a user visits a URL, Flask checks the route definition and executes the corresponding function to generate a response.\n",
        "- For example, `@app.route(\"/\")` maps the homepage URL to its handler function.\n",
        "- It can also handle dynamic parameters like `@app.route(\"/user/<name>\")`.\n",
        "- Additionally, it supports specifying HTTP methods (e.g., `methods=[\"GET\",\"POST\"]`).\n",
        "- Thus, `@app.route()` is essential for directing client requests to the appropriate logic in a Flask application.\n",
        "- It's the essential link between a user's browser and your backend logic.\n"
      ],
      "metadata": {
        "id": "3zR2sy7-yeTu"
      },
      "id": "3zR2sy7-yeTu"
    },
    {
      "cell_type": "markdown",
      "id": "ce3f0769",
      "metadata": {
        "id": "ce3f0769"
      },
      "source": [
        "## **8. What is the difference between GET and POST HTTP methods ?**"
      ]
    },
    {
      "cell_type": "markdown",
      "source": [
        "The fundamental difference between **GET** and **POST** HTTP methods is their purpose and how they handle data.\n",
        "\n",
        "* **GET** is used to **request data** from a specified resource on a server. It appends data parameters directly to the URL, making them visible in the browser's address bar. It's considered a \"safe\" method because it should not alter any server-side data, and it's ideal for fetching information.\n",
        "\n",
        "* **POST** is used to **send data** to a server to create or update a resource. It includes data in the request body, which is not visible in the URL. POST is more secure for sensitive information and can handle larger data payloads, making it suitable for form submissions, file uploads, or creating new records."
      ],
      "metadata": {
        "id": "VYAN_YARyPjX"
      },
      "id": "VYAN_YARyPjX"
    },
    {
      "cell_type": "markdown",
      "id": "cb1b7d7e",
      "metadata": {
        "id": "cb1b7d7e"
      },
      "source": [
        "## **9. How do you handle errors in Flask APIs ?**"
      ]
    },
    {
      "cell_type": "markdown",
      "source": [
        "- In Flask APIs, errors are handled using **error handlers** and proper response formatting.\n",
        "- Developers can define custom error responses with the `@app.errorhandler()` decorator, which maps specific HTTP status codes (like 404 or 500) to functions that return meaningful messages.\n",
        "  - For example, `@app.errorhandler(404)` can return a JSON response saying “Resource not found.”\n",
        "  \n",
        "- Flask also allows raising exceptions such as `abort(400)` for invalid requests.\n",
        "- To ensure consistency, many APIs return errors in structured formats (e.g., JSON with code and message).\n",
        "- Proper error handling improves user experience, debugging, and ensures the API communicates problems clearly to clients.\n"
      ],
      "metadata": {
        "id": "6G7FAJGczPbu"
      },
      "id": "6G7FAJGczPbu"
    },
    {
      "cell_type": "markdown",
      "id": "e85b83ca",
      "metadata": {
        "id": "e85b83ca"
      },
      "source": [
        "## **10. How do you connect Flask to a SQL database ?**"
      ]
    },
    {
      "cell_type": "markdown",
      "source": [
        "- To connect Flask to a SQL database,  typically  a Flask extension like Flask-SQLAlchemy is used.\n",
        "- This extension provides an Object-Relational Mapper (ORM), which allows  to interact with your database using Python objects instead of raw SQL queries.\n",
        "\n",
        "\n",
        "```python\n",
        "app.config['SQLALCHEMY_DATABASE_URI'] = 'sqlite:///data.db'\n",
        "db = SQLAlchemy(app)\n",
        "\n",
        "```\n",
        "- Then define models as python classes representing tables, with attributes mapping to columns.\n",
        "- to perform insertation or updates:\n",
        "\n",
        "\n",
        "```\n",
        "db.session.add()\n",
        "```\n",
        "and\n",
        "```\n",
        "db.session.commit()\n",
        "```\n",
        "\n",
        "- Queries are handled with\n",
        "```\n",
        " Model.query.all()\n",
        " ```\n",
        " or filters.\n",
        " - This integration simplifies database operations in Flask applications.\n",
        "\n"
      ],
      "metadata": {
        "id": "LknI3-vSz85o"
      },
      "id": "LknI3-vSz85o"
    },
    {
      "cell_type": "markdown",
      "id": "81180c31",
      "metadata": {
        "id": "81180c31"
      },
      "source": [
        "## **11. What is the role of Flask-SQLAlchemy ?**"
      ]
    },
    {
      "cell_type": "markdown",
      "source": [
        "- Flask-SQLAlchemy is an extension that integrates **SQLAlchemy**, a powerful Object Relational Mapper (ORM), with Flask applications.\n",
        "- Its role is to simplify database interactions by allowing developers to work with Python classes and objects instead of writing raw SQL queries.\n",
        "- With Flask-SQLAlchemy, we can define models as Python classes, and these map directly to database tables.\n",
        "- It provides easy methods for creating, querying, updating, and deleting records.\n",
        "- Additionally, it manages database connections, sessions, and migrations efficiently.\n",
        "- This makes database operations more intuitive, reduces boilerplate code, and ensures cleaner, more maintainable code when building data-driven Flask applications.\n"
      ],
      "metadata": {
        "id": "y9fZX-l41uFW"
      },
      "id": "y9fZX-l41uFW"
    },
    {
      "cell_type": "markdown",
      "id": "06784460",
      "metadata": {
        "id": "06784460"
      },
      "source": [
        "## **12. What are Flask blueprints, and how are they useful ?**"
      ]
    },
    {
      "cell_type": "markdown",
      "source": [
        "- Flask blueprints are a way to organize and structure large Flask applications into smaller, reusable components.\n",
        "- A blueprint represents a collection of routes, templates, static files, and other functionalities that can be grouped together.\n",
        "- Instead of defining all routes in a single file, we can create multiple blueprints (e.g., for authentication, user management, or APIs) and then register them with the main Flask app. - This modular approach improves code organization, maintainability, and scalability.\n",
        "- Blueprints also allow teams to work on different parts of an application independently, making them very useful for building complex or large-scale Flask projects.\n"
      ],
      "metadata": {
        "id": "TwbUqZXQ2F9U"
      },
      "id": "TwbUqZXQ2F9U"
    },
    {
      "cell_type": "markdown",
      "id": "4704f066",
      "metadata": {
        "id": "4704f066"
      },
      "source": [
        "## **13. What is the purpose of Flask's request object ?**"
      ]
    },
    {
      "cell_type": "markdown",
      "source": [
        "- The **`request` object** in Flask is a global object that holds all the incoming data from a client's HTTP request.\n",
        "- Its purpose is to give your application access to essential request information, such as form data (`request.form`), URL parameters (`request.args`), JSON data (`request.json`), HTTP headers (`request.headers`), and the request method (`request.method`).\n",
        "- It acts as a container for all the details a user sends to your server, allowing your view functions to process user input, like a form submission or an API call."
      ],
      "metadata": {
        "id": "QJUqTK_B38t0"
      },
      "id": "QJUqTK_B38t0"
    },
    {
      "cell_type": "markdown",
      "id": "e157dfd1",
      "metadata": {
        "id": "e157dfd1"
      },
      "source": [
        "## **14. How do you create a RESTful API endpoint using Flask ?**"
      ]
    },
    {
      "cell_type": "markdown",
      "source": [
        "To create a RESTful API endpoint in Flask, first import Flask and initialize an app:\n",
        "\n",
        "```python\n",
        "from flask import Flask, jsonify, request\n",
        "app = Flask(__name__)\n",
        "```\n",
        "\n",
        "Define a route using the `@app.route()` decorator, specifying the URL and HTTP methods:\n",
        "\n",
        "```python\n",
        "@app.route(\"/api/data\", methods=[\"GET\", \"POST\"])\n",
        "def handle_data():\n",
        "    if request.method == \"GET\":\n",
        "        return jsonify({\"message\": \"Data retrieved\"})\n",
        "    elif request.method == \"POST\":\n",
        "        data = request.get_json()\n",
        "        return jsonify({\"message\": \"Data received\", \"data\": data})\n",
        "```\n",
        "\n",
        "Finally, run the app with `app.run()`. This setup enables the endpoint to handle RESTful requests and return JSON responses.\n"
      ],
      "metadata": {
        "id": "LgF3-5WP4cBV"
      },
      "id": "LgF3-5WP4cBV"
    },
    {
      "cell_type": "markdown",
      "id": "e13aa330",
      "metadata": {
        "id": "e13aa330"
      },
      "source": [
        "## **15. What is the purpose of Flask's jsonify() function ?**"
      ]
    },
    {
      "cell_type": "markdown",
      "source": [
        "- Flask’s `jsonify()` function is used to convert Python data structures, like dictionaries or lists, into **JSON-formatted responses** suitable for API clients.\n",
        "- It automatically sets the `Content-Type` header to `application/json`, ensuring proper communication with web browsers or other applications consuming the API.\n",
        "- Unlike returning plain strings, `jsonify()` handles serialization safely, supports Unicode, and formats data correctly.\n",
        "- It is commonly used in RESTful APIs to send structured data, error messages, or status responses.\n",
        "- By using `jsonify()`, developers can provide standardized, readable, and machine-friendly responses, simplifying client-side parsing and improving the consistency of API communication.\n"
      ],
      "metadata": {
        "id": "W5MdXVCm4xIn"
      },
      "id": "W5MdXVCm4xIn"
    },
    {
      "cell_type": "markdown",
      "id": "aa8f68f8",
      "metadata": {
        "id": "aa8f68f8"
      },
      "source": [
        "## **16. Explain Flask’s url_for() function .**"
      ]
    },
    {
      "cell_type": "markdown",
      "source": [
        "- Flask's `url_for()` function is used for **URL building and routing**. Instead of hardcoding URLs in your templates and code, we use `url_for()` to dynamically generate them based on a function's name.\n",
        "- This is crucial for creating robust and maintainable applications.\n",
        "- If we change a URL's path in our route, `url_for()` automatically updates all links that reference it, preventing broken links.\n",
        "- It can also handle variable parts of a URL, making it a flexible and essential tool for navigating our Flask application."
      ],
      "metadata": {
        "id": "lF4F5iMn5z4r"
      },
      "id": "lF4F5iMn5z4r"
    },
    {
      "cell_type": "markdown",
      "id": "7d2b2f6f",
      "metadata": {
        "id": "7d2b2f6f"
      },
      "source": [
        "## **17. How does Flask handle static files (CSS, JavaScript, etc.) ?**"
      ]
    },
    {
      "cell_type": "markdown",
      "source": [
        "- Flask handles static files, like CSS, JavaScript, and images, through a dedicated **`static` folder** in the project directory.\n",
        "- By default, any file placed in this folder can be accessed via the `/static/` URL path.\n",
        "- Developers use Flask’s `url_for()` function to reference these files in templates, for example, `url_for('static', filename='style.css')`.\n",
        "- This ensures correct paths even if the app’s structure changes.\n",
        "- Static files are served directly without additional routing logic, improving performance.\n",
        "- Flask’s approach simplifies managing assets, supports caching, and integrates seamlessly with templates, enabling organized and efficient delivery of front-end resources.\n"
      ],
      "metadata": {
        "id": "dvxGWYCk6JRE"
      },
      "id": "dvxGWYCk6JRE"
    },
    {
      "cell_type": "markdown",
      "id": "eb92978d",
      "metadata": {
        "id": "eb92978d"
      },
      "source": [
        "## **18. What is an API specification, and how does it help in building a Flask API ?**"
      ]
    },
    {
      "cell_type": "markdown",
      "source": [
        "- An **API specification** (like OpenAPI/Swagger) is a detailed, machine-readable document that describes what an API does.\n",
        "- It defines the available endpoints, HTTP methods, request parameters, response formats, and authentication methods.\n",
        "- This blueprint helps in building a Flask API by providing a single source of truth for both developers and consumers.\n",
        "- It allows us to automatically generate interactive documentation, client SDKs, and server stubs, which streamlines development and ensures consistency.\n",
        "- It acts as a contract, making it easier for different teams to collaborate and for clients to understand and use your API correctly."
      ],
      "metadata": {
        "id": "vsGJkhgW6out"
      },
      "id": "vsGJkhgW6out"
    },
    {
      "cell_type": "markdown",
      "id": "083da4a9",
      "metadata": {
        "id": "083da4a9"
      },
      "source": [
        "## **19. What are HTTP status codes, and why are they important in a Flask API ?**"
      ]
    },
    {
      "cell_type": "markdown",
      "source": [
        "- HTTP status codes are three-digit numbers sent by a server in response to a client's request.\n",
        "- They communicate the outcome of the request, indicating whether it was successful, redirected, or encountered an error.\n",
        "- They are critical for a Flask API because they provide standardized feedback to the client.\n",
        "  - For example, a `200 OK` code signifies success, `201 Created` means a new resource was made, `404 Not Found` indicates a nonexistent URL, and `500 Internal Server Error` points to a server-side problem.\n",
        "- Using the correct status codes ensures your API is predictable, understandable, and easily consumed by other applications."
      ],
      "metadata": {
        "id": "4cu9cE7Q7JSu"
      },
      "id": "4cu9cE7Q7JSu"
    },
    {
      "cell_type": "markdown",
      "id": "ccb73031",
      "metadata": {
        "id": "ccb73031"
      },
      "source": [
        "## **20. How do you handle POST requests in Flask ?**"
      ]
    },
    {
      "cell_type": "markdown",
      "source": [
        "- In Flask, POST requests are handled by defining a route with the `methods` parameter including `\"POST\"`, for example:\n",
        "\n",
        "```python\n",
        "@app.route(\"/submit\", methods=[\"POST\"])\n",
        "def submit():\n",
        "    data = request.form  # for form data\n",
        "    # or use request.get_json() for JSON payloads\n",
        "    return jsonify({\"message\": \"Data received\", \"data\": data})\n",
        "```\n",
        "\n",
        "- The `request` object allows access to form fields, JSON payloads, headers, and files sent by the client. After processing the data, the server typically responds with a JSON or HTML response.\n",
        "- Handling POST requests is essential for creating resources or processing client-submitted information in RESTful APIs.\n"
      ],
      "metadata": {
        "id": "1dYRA2Ue7kat"
      },
      "id": "1dYRA2Ue7kat"
    },
    {
      "cell_type": "markdown",
      "id": "2a340c95",
      "metadata": {
        "id": "2a340c95"
      },
      "source": [
        "## **21. How would you secure a Flask API ?**"
      ]
    },
    {
      "cell_type": "markdown",
      "source": [
        "- Securing a Flask API involves multiple strategies.\n",
        "  - First, implement **authentication and authorization**, such as API keys, OAuth, or JWT tokens, to control access.\n",
        "  - Use **HTTPS** to encrypt data in transit. Validate and sanitize all input to prevent injection attacks. - Limit request rates with **rate limiting** to reduce abuse.\n",
        "  - Employ **error handling** without exposing sensitive details and configure secure **CORS** policies.\n",
        "  - Keep dependencies updated to avoid vulnerabilities and store secrets safely using environment variables.\n",
        "  - Logging and monitoring suspicious activity help detect attacks. These measures collectively ensure a Flask API remains safe, reliable, and resistant to common security threats.\n"
      ],
      "metadata": {
        "id": "ArJD7xAP72dl"
      },
      "id": "ArJD7xAP72dl"
    },
    {
      "cell_type": "markdown",
      "id": "cfa7fa99",
      "metadata": {
        "id": "cfa7fa99"
      },
      "source": [
        "## **22. What is the significance of the Flask-RESTful extension ?**"
      ]
    },
    {
      "cell_type": "markdown",
      "source": [
        "- Flask-RESTful is an extension that simplifies building RESTful APIs with Flask by providing tools to manage resources, routes, and HTTP methods efficiently.\n",
        "- It introduces the **Resource** class, enabling developers to organize API endpoints as Python classes with methods like `get()`, `post()`, `put()`, and `delete()`.\n",
        "- Flask-RESTful also handles request parsing, input validation, and automatic error handling, reducing boilerplate code.\n",
        "- It integrates seamlessly with Flask’s routing and supports structured, consistent responses, often in JSON.\n",
        "- By streamlining API development, Flask-RESTful improves maintainability, readability, and scalability, making it a popular choice for developers creating robust RESTful APIs.\n"
      ],
      "metadata": {
        "id": "zA5PIJUV8T8y"
      },
      "id": "zA5PIJUV8T8y"
    },
    {
      "cell_type": "markdown",
      "id": "362286e6",
      "metadata": {
        "id": "362286e6"
      },
      "source": [
        "## **23. What is the role of Flask’s session object ?**"
      ]
    },
    {
      "cell_type": "markdown",
      "source": [
        "- The **`session` object** in Flask provides a way to store data on the server that is unique to a user's browser session.\n",
        "- Its role is to manage state across multiple HTTP requests, which is essential because HTTP is a stateless protocol.\n",
        "- Instead of using a database for temporary user data, Flask's session stores information like a logged-in user's ID or a shopping cart's contents as a cryptographically signed cookie on the client's side.\n",
        "- The server then decodes this cookie on subsequent requests, allowing your application to \"remember\" the user without requiring them to re-authenticate or re-submit information."
      ],
      "metadata": {
        "id": "25GKOcsf839z"
      },
      "id": "25GKOcsf839z"
    },
    {
      "cell_type": "markdown",
      "id": "a96d1a5a",
      "metadata": {
        "id": "a96d1a5a"
      },
      "source": [
        "# **Practical Questions**"
      ]
    },
    {
      "cell_type": "markdown",
      "id": "284967ff",
      "metadata": {
        "id": "284967ff"
      },
      "source": [
        "## **1. How do you create a basic Flask application ?**"
      ]
    },
    {
      "cell_type": "markdown",
      "source": [
        "To create a basic Flask application, follow these steps:\n",
        "\n",
        "1. **Install Flask** using pip:\n",
        "\n",
        "```bash\n",
        "pip install flask\n",
        "```\n",
        "\n",
        "2. **Create a Python file** (e.g., `app.py`) and write the following code:\n",
        "\n",
        "```python\n",
        "from flask import Flask\n",
        "\n",
        "app = Flask(__name__)\n",
        "\n",
        "@app.route(\"/\")\n",
        "def home():\n",
        "    return \"Hello, World!\"\n",
        "\n",
        "if __name__ == \"__main__\":\n",
        "    app.run(debug=True)\n",
        "```\n",
        "\n",
        "3. **Run the application** by executing:\n",
        "\n",
        "```bash\n",
        "python app.py\n",
        "```\n",
        "\n",
        "4. **Access the app** in a web browser at `http://127.0.0.1:5000/`.\n",
        "\n",
        "This sets up a minimal Flask app with a single route.\n",
        "- In this code, the home() function is linked to the root URL (/).\n",
        "- When we run this file and navigate to http://127.0.0.1:5000/ in our browser, it will display \"Hello, World!\".\n",
        "- The debug=True argument enables a powerful debugger and reloads the server automatically on code changes.\n"
      ],
      "metadata": {
        "id": "R0eewkw99Xfb"
      },
      "id": "R0eewkw99Xfb"
    },
    {
      "cell_type": "markdown",
      "id": "ee340cf9",
      "metadata": {
        "id": "ee340cf9"
      },
      "source": [
        "## **2. How do you serve static files like images or CSS in Flask ?**"
      ]
    },
    {
      "cell_type": "markdown",
      "source": [
        "- We serve static files in Flask by placing them in a designated folder and using the `url_for()` function to reference them in our templates.\n",
        "\n",
        "### The `static` Folder\n",
        "\n",
        "- By default, Flask looks for static files (like CSS, JavaScript, and images) in a folder named **`static`** at the same level as our application's main Python file.\n",
        "- We can organize these files in subdirectories for better structure, such as `static/css`, `static/js`, and `static/images`.\n",
        "\n",
        "```\n",
        "/your_project\n",
        "|-- app.py\n",
        "|-- static/\n",
        "|   |-- css/\n",
        "|   |   |-- style.css\n",
        "|   |-- images/\n",
        "|   |   |-- logo.png\n",
        "|-- templates/\n",
        "|   |-- index.html\n",
        "```\n",
        "\n",
        "-----\n",
        "\n",
        "### Linking Static Files\n",
        "\n",
        "- To link to these files in your HTML templates, we use the `url_for()` function with the special endpoint `'static'`.\n",
        "- The `filename` argument should be the path to your file relative to the `static` folder.\n",
        "\n",
        "  - For example, to link a CSS file named `style.css` located in the `static/css` directory, we would use this in our HTML:\n",
        "\n",
        "```html\n",
        "<link rel=\"stylesheet\" href=\"{{ url_for('static', filename='css/style.css') }}\">\n",
        "```\n",
        "\n",
        "Similarly, to display an image named `logo.png` from the `static/images` folder, we would use:\n",
        "\n",
        "```html\n",
        "<img src=\"{{ url_for('static', filename='images/logo.png') }}\" alt=\"Logo\">\n",
        "```\n",
        "\n",
        "- This method is preferred over hardcoding URLs because `url_for()` ensures that the path is always correct, even if we move our application or change its configuration."
      ],
      "metadata": {
        "id": "GmFsfVpj98Lj"
      },
      "id": "GmFsfVpj98Lj"
    },
    {
      "cell_type": "markdown",
      "id": "39243667",
      "metadata": {
        "id": "39243667"
      },
      "source": [
        "## **3. How do you define different routes with different HTTP methods in Flask ?**"
      ]
    },
    {
      "cell_type": "markdown",
      "source": [
        "- We can define different routes with different HTTP methods in Flask by specifying the allowed methods within the **`@app.route()`** decorator.\n",
        "- This allows a single URL endpoint to handle various types of requests, such as `GET`, `POST`, `PUT`, and `DELETE`, which is a core principle of RESTful APIs.\n",
        "\n",
        "### Using the `methods` Parameter\n",
        "\n",
        "- The `methods` argument in the `@app.route()` decorator accepts a list of strings, where each string is an HTTP method.\n",
        "- Our view function will only be executed if the incoming request matches one of the specified methods.\n",
        "\n",
        "  - Here's an example of a single endpoint, `/data`, that handles two different methods:\n",
        "\n",
        "```python\n",
        "from flask import Flask, request, jsonify\n",
        "\n",
        "app = Flask(__name__)\n",
        "\n",
        "# This route handles both GET and POST requests for the same URL\n",
        "@app.route('/data', methods=['GET', 'POST'])\n",
        "def handle_data():\n",
        "    if request.method == 'POST':\n",
        "        # Logic for creating a new resource\n",
        "        data = request.json\n",
        "        if data:\n",
        "            return jsonify({'message': 'Data received!', 'your_data': data}), 201\n",
        "        return jsonify({'error': 'No data received'}), 400\n",
        "    else:  # The method is GET\n",
        "        # Logic for retrieving a resource\n",
        "        return jsonify({'message': 'This is a GET request to retrieve data.'})\n",
        "\n",
        "if __name__ == '__main__':\n",
        "    app.run(debug=True)\n",
        "```\n",
        "\n",
        "In this example:\n",
        "\n",
        "  * A `GET` request to `/data` will run the `else` block, retrieving information.\n",
        "  * A `POST` request to `/data` will run the `if` block, processing new data sent in the request body.\n",
        "\n",
        "- We can also create separate functions for clarity, though it's often more concise to use a single function for a given endpoint.\n",
        "- This approach is fundamental to building RESTful APIs where we manage a single resource (e.g., a user or a product) with multiple operations (create, read, update, delete) at a consistent URL."
      ],
      "metadata": {
        "id": "nOepp39I-kiV"
      },
      "id": "nOepp39I-kiV"
    },
    {
      "cell_type": "markdown",
      "id": "7723c4fe",
      "metadata": {
        "id": "7723c4fe"
      },
      "source": [
        "## **4. How do you render HTML templates in Flask ?**"
      ]
    },
    {
      "cell_type": "markdown",
      "source": [
        "- We render HTML templates in Flask using the **`render_template()`** function. This function takes the name of an HTML file as its argument and returns it to the client's browser. It's the standard way to serve dynamic web pages in Flask.\n",
        "\n",
        "-----\n",
        "\n",
        "### Using the `templates` Folder\n",
        "\n",
        "- Flask automatically looks for HTML template files in a directory named **`templates`** located at the same level as our main application file.\n",
        "- We must place all our `.html` files in this folder for Flask to find them.\n",
        "\n",
        "```\n",
        "/your_project\n",
        "|-- app.py\n",
        "|-- templates/\n",
        "|   |-- index.html\n",
        "|   |-- about.html\n",
        "|   |-- blog_post.html\n",
        "```\n",
        "\n",
        "-----\n",
        "\n",
        "### The `render_template()` Function\n",
        "\n",
        "- To use `render_template()`, we need to import it from the `flask` module.\n",
        "- In our view function, instead of returning a simple string, we call `render_template()` and pass the name of the template file we want to display.\n",
        "\n",
        "Here's a simple example:\n",
        "\n",
        "```python\n",
        "from flask import Flask, render_template\n",
        "\n",
        "app = Flask(__name__)\n",
        "\n",
        "@app.route('/')\n",
        "def home():\n",
        "    # Renders the 'index.html' template\n",
        "    return render_template('index.html')\n",
        "\n",
        "@app.route('/about')\n",
        "def about():\n",
        "    # Renders the 'about.html' template\n",
        "    return render_template('about.html')\n",
        "\n",
        "if __name__ == '__main__':\n",
        "    app.run(debug=True)\n",
        "```\n",
        "\n",
        "In this code, a user visiting the root URL (`/`) will be served the `index.html` file, and a user visiting `/about` will be served the `about.html` file.\n",
        "\n",
        "-----\n",
        "\n",
        "### Passing Data to Templates\n",
        "\n",
        "- The real power of `render_template()` comes from its ability to pass data from our Python code into the HTML template. We can pass variables as keyword arguments to the function, and they will be available in the template through the **Jinja2 templating engine**.\n",
        "\n",
        "For instance, to pass a `username` variable to an HTML template:\n",
        "\n",
        "**app.py**\n",
        "\n",
        "```python\n",
        "from flask import Flask, render_template\n",
        "\n",
        "app = Flask(__name__)\n",
        "\n",
        "@app.route('/user/<username>')\n",
        "def show_user_profile(username):\n",
        "    # Pass the 'username' variable to the template\n",
        "    return render_template('profile.html', user=username)\n",
        "```\n",
        "\n",
        "**templates/profile.html**\n",
        "\n",
        "```html\n",
        "<!DOCTYPE html>\n",
        "<html lang=\"en\">\n",
        "<head>\n",
        "    <title>User Profile</title>\n",
        "</head>\n",
        "<body>\n",
        "    <h1>Hello, {{ user }}!</h1>\n",
        "</body>\n",
        "</html>\n",
        "```\n",
        "\n",
        "The `{{ user }}` syntax in the HTML file is a **Jinja2 expression** that will be replaced with the value of the `user` variable you passed from your Flask function. This makes it possible to generate dynamic content."
      ],
      "metadata": {
        "id": "BlZzDjLT_i0_"
      },
      "id": "BlZzDjLT_i0_"
    },
    {
      "cell_type": "markdown",
      "id": "82c271ab",
      "metadata": {
        "id": "82c271ab"
      },
      "source": [
        "## **5. How can you generate URLs for routes in Flask using url_for ?**"
      ]
    },
    {
      "cell_type": "markdown",
      "source": [
        "In Flask, the `url_for()` function dynamically generates URLs for routes using the **endpoint name**, which is usually the view function’s name. This avoids hardcoding URLs, making your application more maintainable.\n",
        "\n",
        "**Example:**\n",
        "\n",
        "```python\n",
        "from flask import Flask, url_for\n",
        "\n",
        "app = Flask(__name__)\n",
        "\n",
        "@app.route(\"/\")\n",
        "def home():\n",
        "    return \"Home Page\"\n",
        "\n",
        "@app.route(\"/profile/<username>\")\n",
        "def profile(username):\n",
        "    return f\"Profile: {username}\"\n",
        "\n",
        "with app.test_request_context():\n",
        "    print(url_for('home'))                # Output: /\n",
        "    print(url_for('profile', username='Navi'))  # Output: /profile/Navi\n",
        "```"
      ],
      "metadata": {
        "id": "pWjhrecUroOB"
      },
      "id": "pWjhrecUroOB"
    },
    {
      "cell_type": "markdown",
      "id": "be3116d2",
      "metadata": {
        "id": "be3116d2"
      },
      "source": [
        "## **6. How do you handle forms in Flask ?**"
      ]
    },
    {
      "cell_type": "markdown",
      "source": [
        "In Flask, forms are handled using the **`request` object** to capture data submitted via POST requests.\n",
        " **Flask app (`app.py`):**\n",
        "\n",
        "```python\n",
        "from flask import Flask, request, render_template\n",
        "\n",
        "app = Flask(__name__)\n",
        "\n",
        "@app.route(\"/form\")\n",
        "def form():\n",
        "    return render_template(\"form.html\")\n",
        "\n",
        "@app.route(\"/submit\", methods=[\"POST\"])\n",
        "def submit():\n",
        "    username = request.form['username']\n",
        "    return f\"Hello, {username}!\"\n",
        "```\n",
        "\n"
      ],
      "metadata": {
        "id": "6XxvMJAdsmOc"
      },
      "id": "6XxvMJAdsmOc"
    },
    {
      "cell_type": "markdown",
      "id": "655c28f3",
      "metadata": {
        "id": "655c28f3"
      },
      "source": [
        "## **7. How can you validate form data in Flask ?**"
      ]
    },
    {
      "cell_type": "markdown",
      "source": [
        "```python\n",
        "from flask import Flask, request\n",
        "\n",
        "app = Flask(__name__)\n",
        "\n",
        "@app.route(\"/submit\", methods=[\"POST\"])\n",
        "def submit():\n",
        "    username = request.form.get(\"username\")\n",
        "    if not username or len(username) < 3:\n",
        "        return \"Invalid username!\", 400\n",
        "    return f\"Welcome, {username}!\"\n",
        "\n",
        "```\n"
      ],
      "metadata": {
        "id": "Wi0HSBoksxCx"
      },
      "id": "Wi0HSBoksxCx"
    },
    {
      "cell_type": "markdown",
      "id": "4f8b65e1",
      "metadata": {
        "id": "4f8b65e1"
      },
      "source": [
        "## **8. How do you manage sessions in Flask ?**"
      ]
    },
    {
      "cell_type": "markdown",
      "source": [
        "In Flask, sessions are managed using the built-in **`session` object**, which lets you store user-specific data across multiple requests. Flask stores session data in a **signed cookie** on the client side, secured with the app’s `SECRET_KEY`.\n",
        "\n",
        "**Example:**\n",
        "\n",
        "```python\n",
        "from flask import Flask, session, redirect, url_for, request\n",
        "\n",
        "app = Flask(__name__)\n",
        "app.secret_key = \"mysecretkey\"  # Required for signing sessions\n",
        "\n",
        "@app.route(\"/login\", methods=[\"POST\"])\n",
        "def login():\n",
        "    session[\"username\"] = request.form[\"username\"]  # Store data in session\n",
        "    return redirect(url_for(\"profile\"))\n",
        "\n",
        "@app.route(\"/profile\")\n",
        "def profile():\n",
        "    if \"username\" in session:\n",
        "        return f\"Welcome, {session['username']}!\"\n",
        "    return \"You are not logged in.\"\n",
        "```\n"
      ],
      "metadata": {
        "id": "iPZ7XibHtWnX"
      },
      "id": "iPZ7XibHtWnX"
    },
    {
      "cell_type": "markdown",
      "id": "c0a9c353",
      "metadata": {
        "id": "c0a9c353"
      },
      "source": [
        "## **9. How do you redirect to a different route in Flask ?**"
      ]
    },
    {
      "cell_type": "markdown",
      "source": [
        "In Flask, we can redirect to a different route using the **`redirect()`** function along with **`url_for()`** to generate the target URL dynamically. This ensures flexibility if route paths change.\n",
        "\n",
        "**Example:**\n",
        "\n",
        "```python\n",
        "from flask import Flask, redirect, url_for\n",
        "\n",
        "app = Flask(__name__)\n",
        "\n",
        "@app.route(\"/\")\n",
        "def home():\n",
        "    return \"Home Page\"\n",
        "\n",
        "@app.route(\"/login\")\n",
        "def login():\n",
        "    # After login, redirect to profile page\n",
        "    return redirect(url_for(\"profile\", username=\"John\"))\n",
        "\n",
        "@app.route(\"/profile/<username>\")\n",
        "def profile(username):\n",
        "    return f\"Welcome, {username}!\"\n",
        "```\n",
        "\n",
        "Here, visiting `/login` redirects the user to `/profile/John`.\n",
        "\n"
      ],
      "metadata": {
        "id": "JYQ1QyqFtiuR"
      },
      "id": "JYQ1QyqFtiuR"
    },
    {
      "cell_type": "markdown",
      "id": "e4a84eef",
      "metadata": {
        "id": "e4a84eef"
      },
      "source": [
        "## **10. How do you handle errors in Flask (e.g., 404) ?**"
      ]
    },
    {
      "cell_type": "markdown",
      "source": [
        "In Flask, errors like **404 (Not Found)** or **500 (Internal Server Error)** are handled using the **`@app.errorhandler()`** decorator. This allows you to define custom responses instead of default error pages.\n",
        "\n",
        "**Example:**\n",
        "\n",
        "```python\n",
        "from flask import Flask, render_template\n",
        "\n",
        "app = Flask(__name__)\n",
        "\n",
        "@app.errorhandler(404)\n",
        "def page_not_found(error):\n",
        "    return render_template(\"404.html\"), 404\n",
        "\n",
        "@app.errorhandler(500)\n",
        "def internal_error(error):\n",
        "    return \"Something went wrong on the server!\", 500\n",
        "```\n",
        "\n",
        "Here, Flask will render a custom `404.html` template when a page isn’t found.\n",
        "\n",
        "\n"
      ],
      "metadata": {
        "id": "Rr2l-CIStuIu"
      },
      "id": "Rr2l-CIStuIu"
    },
    {
      "cell_type": "markdown",
      "id": "a9e7d8f4",
      "metadata": {
        "id": "a9e7d8f4"
      },
      "source": [
        "## **11. How do you structure a Flask app using Blueprints ?**"
      ]
    },
    {
      "cell_type": "markdown",
      "source": [
        "Flask **Blueprints** let us organize routes, templates, and static files into reusable modules, making larger apps cleaner and more maintainable. Instead of defining everything in a single `app.py`, we split features into blueprints.\n",
        "\n",
        "**Example structure:**\n",
        "\n",
        "```\n",
        "myapp/\n",
        "│── app.py\n",
        "│── auth/\n",
        "│   ├── __init__.py\n",
        "│   ├── routes.py\n",
        "│── blog/\n",
        "│   ├── __init__.py\n",
        "│   ├── routes.py\n",
        "│── templates/\n",
        "│── static/\n",
        "```\n",
        "\n",
        "**auth/routes.py:**\n",
        "\n",
        "```python\n",
        "from flask import Blueprint\n",
        "\n",
        "auth_bp = Blueprint(\"auth\", __name__)\n",
        "\n",
        "@auth_bp.route(\"/login\")\n",
        "def login():\n",
        "    return \"Login Page\"\n",
        "```\n",
        "\n",
        "**app.py:**\n",
        "\n",
        "```python\n",
        "from flask import Flask\n",
        "from auth.routes import auth_bp\n",
        "\n",
        "app = Flask(__name__)\n",
        "app.register_blueprint(auth_bp, url_prefix=\"/auth\")\n",
        "```\n",
        "\n",
        "Now `/auth/login` works.\n",
        "\n",
        "\n"
      ],
      "metadata": {
        "id": "ByKypUQPt74V"
      },
      "id": "ByKypUQPt74V"
    },
    {
      "cell_type": "markdown",
      "id": "01b19dd7",
      "metadata": {
        "id": "01b19dd7"
      },
      "source": [
        "## **12. How do you define a custom Jinja filter in Flask ?**"
      ]
    },
    {
      "cell_type": "markdown",
      "source": [
        "In Flask, we can define a **custom Jinja filter** by creating a Python function and registering it with the Jinja environment using `@app.template_filter()` or `app.jinja_env.filters`. This allows us to apply custom formatting or logic inside templates.\n",
        "\n",
        "**Example:**\n",
        "\n",
        "```python\n",
        "from flask import Flask, render_template\n",
        "\n",
        "app = Flask(__name__)\n",
        "\n",
        "# Define a custom filter\n",
        "@app.template_filter(\"reverse\")\n",
        "def reverse_filter(s):\n",
        "    return s[::-1]\n",
        "\n",
        "@app.route(\"/\")\n",
        "def home():\n",
        "    return render_template(\"index.html\", name=\"Flask\")\n",
        "```\n"
      ],
      "metadata": {
        "id": "CXHuvA2yuKja"
      },
      "id": "CXHuvA2yuKja"
    },
    {
      "cell_type": "markdown",
      "id": "8312ef97",
      "metadata": {
        "id": "8312ef97"
      },
      "source": [
        "## **13. How can you redirect with query parameters in Flask ?**"
      ]
    },
    {
      "cell_type": "markdown",
      "source": [
        "In Flask, we can redirect with query parameters by combining **`redirect()`** and **`url_for()`**, while passing arguments as keyword parameters. Flask automatically converts them into query strings.\n",
        "\n",
        "**Example:**\n",
        "\n",
        "```python\n",
        "from flask import Flask, redirect, url_for, request\n",
        "\n",
        "app = Flask(__name__)\n",
        "\n",
        "@app.route(\"/\")\n",
        "def home():\n",
        "    return redirect(url_for(\"search\", q=\"flask\", page=2))\n",
        "\n",
        "@app.route(\"/search\")\n",
        "def search():\n",
        "    query = request.args.get(\"q\")\n",
        "    page = request.args.get(\"page\")\n",
        "    return f\"Search for: {query}, Page: {page}\"\n",
        "```\n"
      ],
      "metadata": {
        "id": "nJZfNhT5ueA5"
      },
      "id": "nJZfNhT5ueA5"
    },
    {
      "cell_type": "markdown",
      "id": "c8024f0c",
      "metadata": {
        "id": "c8024f0c"
      },
      "source": [
        "## **14. How do you return JSON responses in Flask ?**"
      ]
    },
    {
      "cell_type": "markdown",
      "source": [
        "In Flask, we can return JSON responses using the built-in **`jsonify()`** function, which converts Python dictionaries or lists into proper JSON with the correct `Content-Type` header (`application/json`).\n",
        "\n",
        "**Example:**\n",
        "\n",
        "```python\n",
        "from flask import Flask, jsonify, request\n",
        "\n",
        "app = Flask(__name__)\n",
        "\n",
        "@app.route(\"/api/data\", methods=[\"GET\"])\n",
        "def get_data():\n",
        "    data = {\"name\": \"Flask\", \"type\": \"Framework\", \"version\": 2.3}\n",
        "    return jsonify(data)   # Returns JSON\n",
        "```\n",
        "\n",
        "We can also include **status codes**:\n",
        "\n",
        "```python\n",
        "return jsonify({\"error\": \"Not Found\"}), 404\n",
        "```\n",
        "\n",
        "`jsonify()` ensures safe encoding and Unicode support, making it ideal for RESTful APIs.\n",
        "\n",
        "\n"
      ],
      "metadata": {
        "id": "jwje3_LWupSE"
      },
      "id": "jwje3_LWupSE"
    },
    {
      "cell_type": "markdown",
      "id": "7c2b922a",
      "metadata": {
        "id": "7c2b922a"
      },
      "source": [
        "## **15. How do you capture URL parameters in Flask ?**"
      ]
    },
    {
      "cell_type": "markdown",
      "source": [
        "In Flask, we capture URL parameters by defining **dynamic segments** in the route using angle brackets (`< >`). The values are then passed as arguments to the view function.\n",
        "\n",
        "**Example:**\n",
        "\n",
        "```python\n",
        "from flask import Flask\n",
        "\n",
        "app = Flask(__name__)\n",
        "\n",
        "@app.route(\"/user/<username>\")\n",
        "def profile(username):\n",
        "    return f\"Hello, {username}!\"\n",
        "\n",
        "@app.route(\"/post/<int:post_id>\")\n",
        "def show_post(post_id):\n",
        "    return f\"Post ID: {post_id}\"\n",
        "```\n",
        "\n",
        "* `/user/John` → `\"Hello, Navi!\"`\n",
        "* `/post/42` → `\"Post ID: 80\"`\n",
        "\n",
        "\n"
      ],
      "metadata": {
        "id": "E46cQtNiu5RR"
      },
      "id": "E46cQtNiu5RR"
    }
  ],
  "metadata": {
    "colab": {
      "provenance": []
    },
    "language_info": {
      "name": "python"
    },
    "kernelspec": {
      "name": "python3",
      "display_name": "Python 3"
    }
  },
  "nbformat": 4,
  "nbformat_minor": 5
}